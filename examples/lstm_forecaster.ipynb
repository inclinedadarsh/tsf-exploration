{
 "cells": [
  {
   "cell_type": "markdown",
   "id": "e37c8d15-f762-45b6-b1a1-ed754ed60f0c",
   "metadata": {},
   "source": [
    "# LSTM Forecaster Example\n",
    "\n",
    "This notebook demonstrates how to use the LSTMForecaster class to forecast time series data."
   ]
  },
  {
   "cell_type": "code",
   "execution_count": 1,
   "id": "0a68b42e-3498-4179-bfbb-eeb57a07bcf2",
   "metadata": {},
   "outputs": [],
   "source": [
    "from aeon.datasets import load_airline\n",
    "\n",
    "y = load_airline()"
   ]
  },
  {
   "cell_type": "code",
   "execution_count": 2,
   "id": "d96559e4-2921-415e-a081-7c7247ea3c53",
   "metadata": {},
   "outputs": [],
   "source": [
    "train_size = int(0.8 * len(y))\n",
    "y_train, y_test = y[:train_size], y[train_size:]"
   ]
  },
  {
   "cell_type": "code",
   "execution_count": 6,
   "id": "648a9b74-7896-430f-b9d9-18c4526c2717",
   "metadata": {},
   "outputs": [],
   "source": [
    "from sklearn.preprocessing import MinMaxScaler\n",
    "\n",
    "scaler = MinMaxScaler()\n",
    "\n",
    "y_scaled = scaler.fit_transform(y_train.reshape(-1, 1)).flatten()"
   ]
  },
  {
   "cell_type": "code",
   "execution_count": null,
   "id": "9d162500-f103-40d4-bdd3-88200c220376",
   "metadata": {},
   "outputs": [],
   "source": [
    "from aeon.forecasting.processsssssss-"
   ]
  },
  {
   "cell_type": "code",
   "execution_count": 10,
   "id": "d13c8ea2-4981-47db-a24e-f1520d578575",
   "metadata": {},
   "outputs": [
    {
     "ename": "NameError",
     "evalue": "name 'LSTMForecaster' is not defined",
     "output_type": "error",
     "traceback": [
      "\u001b[0;31m---------------------------------------------------------------------------\u001b[0m",
      "\u001b[0;31mNameError\u001b[0m                                 Traceback (most recent call last)",
      "Cell \u001b[0;32mIn[10], line 1\u001b[0m\n\u001b[0;32m----> 1\u001b[0m forecaster \u001b[38;5;241m=\u001b[39m LSTMForecaster(\n\u001b[1;32m      2\u001b[0m     horizon\u001b[38;5;241m=\u001b[39m\u001b[38;5;241m12\u001b[39m,\n\u001b[1;32m      3\u001b[0m     window_size\u001b[38;5;241m=\u001b[39m\u001b[38;5;241m12\u001b[39m,\n\u001b[1;32m      4\u001b[0m     n_units\u001b[38;5;241m=\u001b[39m\u001b[38;5;241m50\u001b[39m,\n\u001b[1;32m      5\u001b[0m     batch_size\u001b[38;5;241m=\u001b[39m\u001b[38;5;241m32\u001b[39m,\n\u001b[1;32m      6\u001b[0m     state\u001b[38;5;241m=\u001b[39m\u001b[38;5;241m43\u001b[39m,\n\u001b[1;32m      7\u001b[0m     epochs\u001b[38;5;241m=\u001b[39m\u001b[38;5;241m100\u001b[39m,\n\u001b[1;32m      8\u001b[0m     verbose\u001b[38;5;241m=\u001b[39m\u001b[38;5;241m1\u001b[39m\n\u001b[1;32m      9\u001b[0m )\n",
      "\u001b[0;31mNameError\u001b[0m: name 'LSTMForecaster' is not defined"
     ]
    }
   ],
   "source": [
    "forecaster = LSTMForecaster(\n",
    "    horizon=12,\n",
    "    window_size=12,\n",
    "    n_units=50,\n",
    "    batch_size=32,\n",
    "    state=43,\n",
    "    epochs=100,\n",
    "    verbose=1\n",
    ")"
   ]
  },
  {
   "cell_type": "code",
   "execution_count": null,
   "id": "546704a9-23d9-48c4-855e-9cf01747d239",
   "metadata": {},
   "outputs": [],
   "source": [
    "\n"
   ]
  }
 ],
 "metadata": {
  "kernelspec": {
   "display_name": "Python 3 (ipykernel)",
   "language": "python",
   "name": "python3"
  },
  "language_info": {
   "codemirror_mode": {
    "name": "ipython",
    "version": 3
   },
   "file_extension": ".py",
   "mimetype": "text/x-python",
   "name": "python",
   "nbconvert_exporter": "python",
   "pygments_lexer": "ipython3",
   "version": "3.11.11"
  }
 },
 "nbformat": 4,
 "nbformat_minor": 5
}
